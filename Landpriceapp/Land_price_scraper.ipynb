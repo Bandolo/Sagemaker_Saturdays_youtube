{
 "cells": [
  {
   "cell_type": "markdown",
   "id": "4143f39b-d7df-461d-ae4f-532a476f0d72",
   "metadata": {},
   "source": [
    "# Web scraping Land Price Data"
   ]
  },
  {
   "cell_type": "markdown",
   "id": "f8e44615-a589-4e49-92a4-d7d517b66328",
   "metadata": {},
   "source": [
    "- Import Libraries\n",
    "- create our ETL functions\n",
    "- Scrape the data\n",
    "- Create a CSV file"
   ]
  },
  {
   "cell_type": "markdown",
   "id": "f4887690-5cf7-4cfd-8b0f-4139d5c668b4",
   "metadata": {},
   "source": [
    "### 1.) Import Libraries"
   ]
  },
  {
   "cell_type": "code",
   "execution_count": 64,
   "id": "ddc9812c-05eb-455b-a35d-8eb24f90b244",
   "metadata": {},
   "outputs": [],
   "source": [
    "import requests\n",
    "from bs4 import BeautifulSoup"
   ]
  },
  {
   "cell_type": "markdown",
   "id": "b61d76e3-238c-48e3-9778-9adf828fddb1",
   "metadata": {
    "tags": []
   },
   "source": [
    "#### 2.) Creating ETL functions"
   ]
  },
  {
   "cell_type": "code",
   "execution_count": 65,
   "id": "d4883367-7c1e-4849-9ab4-a7617225c114",
   "metadata": {},
   "outputs": [],
   "source": [
    "url_list = []\n",
    "items_list = []"
   ]
  },
  {
   "cell_type": "code",
   "execution_count": 66,
   "id": "ce192d42-fb45-40ef-affa-5e83011e2be9",
   "metadata": {},
   "outputs": [],
   "source": [
    "def get_page_urls(page):\n",
    "    base_url = 'https://www.jumia.cm'\n",
    "    response = requests.get(f'https://www.jumia.cm/en/land-plots?page={page}')\n",
    "    soup = BeautifulSoup(response.text,'html.parser')\n",
    "    list_urls = soup.find_all('article')\n",
    "    for partial_url in list_urls:\n",
    "        new_url = base_url + partial_url.find('a')['href']\n",
    "        url_list.append(new_url)"
   ]
  },
  {
   "cell_type": "code",
   "execution_count": 67,
   "id": "9f5fe064-3c5f-407f-a700-5772c7297de3",
   "metadata": {},
   "outputs": [],
   "source": [
    "def extract_transform(url):\n",
    "    response = requests.get(url)\n",
    "    soup = BeautifulSoup(response.text,'html.parser')\n",
    "    location = soup.find('span',{'itemprop':'addressLocality'}).get_text()\n",
    "    area = int(soup.find_all('h3')[1].get_text().replace('Area','').replace(' m2',''))\n",
    "    price = int(soup.find('span',{'itemprop':'price'}).get_text().replace(',',\"\"))\n",
    "    \n",
    "    items = {\n",
    "        'Location': location,\n",
    "        'Area': area,\n",
    "        'Price': price\n",
    "    }\n",
    "    \n",
    "    items_list.append(items)"
   ]
  },
  {
   "cell_type": "markdown",
   "id": "c95b1f80-5b50-4739-a0ae-15c09a750791",
   "metadata": {},
   "source": [
    "### 3.) Scraping the page"
   ]
  },
  {
   "cell_type": "code",
   "execution_count": 68,
   "id": "8a98dc47-f8e8-46d4-ae90-11da71e13c2a",
   "metadata": {},
   "outputs": [],
   "source": [
    "for page in range(1,3):\n",
    "    get_page_urls(page)"
   ]
  },
  {
   "cell_type": "code",
   "execution_count": 69,
   "id": "1a6323ab-c59c-4e10-9614-ec34bec0dbaa",
   "metadata": {},
   "outputs": [
    {
     "data": {
      "text/plain": [
       "[{'Location': 'Odza', 'Area': 3013, 'Price': 35000},\n",
       " {'Location': 'Douala', 'Area': 150000, 'Price': 12000},\n",
       " {'Location': 'PK21', 'Area': 20000, 'Price': 5000},\n",
       " {'Location': 'PK21', 'Area': 9000, 'Price': 17000},\n",
       " {'Location': 'Yassa', 'Area': 100000, 'Price': 6000},\n",
       " {'Location': 'Bastos', 'Area': 1800, 'Price': 350000},\n",
       " {'Location': 'Nyalla', 'Area': 500, 'Price': 25000000},\n",
       " {'Location': 'Bastos', 'Area': 499, 'Price': 250000},\n",
       " {'Location': 'Quartier Golf', 'Area': 1500, 'Price': 350000},\n",
       " {'Location': 'Quartier Golf', 'Area': 510, 'Price': 350000},\n",
       " {'Location': 'Bastos', 'Area': 789, 'Price': 400000},\n",
       " {'Location': 'Akwa', 'Area': 811, 'Price': 1100000000},\n",
       " {'Location': 'Bonaberi', 'Area': 50000, 'Price': 40000},\n",
       " {'Location': 'Bali', 'Area': 300, 'Price': 200000000},\n",
       " {'Location': 'Bali', 'Area': 400, 'Price': 350000000},\n",
       " {'Location': 'PK14', 'Area': 350, 'Price': 7000000}]"
      ]
     },
     "execution_count": 69,
     "metadata": {},
     "output_type": "execute_result"
    }
   ],
   "source": [
    "for url in url_list:\n",
    "    extract_transform(url)\n",
    "items_list"
   ]
  },
  {
   "cell_type": "markdown",
   "id": "a154b7cd-4ebe-4a59-8621-c8966744bac0",
   "metadata": {},
   "source": [
    "### 4.) Convert to CSV"
   ]
  },
  {
   "cell_type": "code",
   "execution_count": 70,
   "id": "860512a8-7ecd-4989-bff3-5b1c320ce3e5",
   "metadata": {},
   "outputs": [],
   "source": [
    "import pandas as pd"
   ]
  },
  {
   "cell_type": "code",
   "execution_count": 71,
   "id": "7ce7dacb-90bd-4513-b49c-727b42975a92",
   "metadata": {},
   "outputs": [
    {
     "data": {
      "text/html": [
       "<div>\n",
       "<style scoped>\n",
       "    .dataframe tbody tr th:only-of-type {\n",
       "        vertical-align: middle;\n",
       "    }\n",
       "\n",
       "    .dataframe tbody tr th {\n",
       "        vertical-align: top;\n",
       "    }\n",
       "\n",
       "    .dataframe thead th {\n",
       "        text-align: right;\n",
       "    }\n",
       "</style>\n",
       "<table border=\"1\" class=\"dataframe\">\n",
       "  <thead>\n",
       "    <tr style=\"text-align: right;\">\n",
       "      <th></th>\n",
       "      <th>Location</th>\n",
       "      <th>Area</th>\n",
       "      <th>Price</th>\n",
       "    </tr>\n",
       "  </thead>\n",
       "  <tbody>\n",
       "    <tr>\n",
       "      <th>0</th>\n",
       "      <td>Odza</td>\n",
       "      <td>3013</td>\n",
       "      <td>35000</td>\n",
       "    </tr>\n",
       "    <tr>\n",
       "      <th>1</th>\n",
       "      <td>Douala</td>\n",
       "      <td>150000</td>\n",
       "      <td>12000</td>\n",
       "    </tr>\n",
       "    <tr>\n",
       "      <th>2</th>\n",
       "      <td>PK21</td>\n",
       "      <td>20000</td>\n",
       "      <td>5000</td>\n",
       "    </tr>\n",
       "    <tr>\n",
       "      <th>3</th>\n",
       "      <td>PK21</td>\n",
       "      <td>9000</td>\n",
       "      <td>17000</td>\n",
       "    </tr>\n",
       "    <tr>\n",
       "      <th>4</th>\n",
       "      <td>Yassa</td>\n",
       "      <td>100000</td>\n",
       "      <td>6000</td>\n",
       "    </tr>\n",
       "    <tr>\n",
       "      <th>5</th>\n",
       "      <td>Bastos</td>\n",
       "      <td>1800</td>\n",
       "      <td>350000</td>\n",
       "    </tr>\n",
       "    <tr>\n",
       "      <th>6</th>\n",
       "      <td>Nyalla</td>\n",
       "      <td>500</td>\n",
       "      <td>25000000</td>\n",
       "    </tr>\n",
       "    <tr>\n",
       "      <th>7</th>\n",
       "      <td>Bastos</td>\n",
       "      <td>499</td>\n",
       "      <td>250000</td>\n",
       "    </tr>\n",
       "    <tr>\n",
       "      <th>8</th>\n",
       "      <td>Quartier Golf</td>\n",
       "      <td>1500</td>\n",
       "      <td>350000</td>\n",
       "    </tr>\n",
       "    <tr>\n",
       "      <th>9</th>\n",
       "      <td>Quartier Golf</td>\n",
       "      <td>510</td>\n",
       "      <td>350000</td>\n",
       "    </tr>\n",
       "    <tr>\n",
       "      <th>10</th>\n",
       "      <td>Bastos</td>\n",
       "      <td>789</td>\n",
       "      <td>400000</td>\n",
       "    </tr>\n",
       "    <tr>\n",
       "      <th>11</th>\n",
       "      <td>Akwa</td>\n",
       "      <td>811</td>\n",
       "      <td>1100000000</td>\n",
       "    </tr>\n",
       "    <tr>\n",
       "      <th>12</th>\n",
       "      <td>Bonaberi</td>\n",
       "      <td>50000</td>\n",
       "      <td>40000</td>\n",
       "    </tr>\n",
       "    <tr>\n",
       "      <th>13</th>\n",
       "      <td>Bali</td>\n",
       "      <td>300</td>\n",
       "      <td>200000000</td>\n",
       "    </tr>\n",
       "    <tr>\n",
       "      <th>14</th>\n",
       "      <td>Bali</td>\n",
       "      <td>400</td>\n",
       "      <td>350000000</td>\n",
       "    </tr>\n",
       "    <tr>\n",
       "      <th>15</th>\n",
       "      <td>PK14</td>\n",
       "      <td>350</td>\n",
       "      <td>7000000</td>\n",
       "    </tr>\n",
       "  </tbody>\n",
       "</table>\n",
       "</div>"
      ],
      "text/plain": [
       "         Location    Area       Price\n",
       "0            Odza    3013       35000\n",
       "1          Douala  150000       12000\n",
       "2            PK21   20000        5000\n",
       "3            PK21    9000       17000\n",
       "4           Yassa  100000        6000\n",
       "5          Bastos    1800      350000\n",
       "6          Nyalla     500    25000000\n",
       "7          Bastos     499      250000\n",
       "8   Quartier Golf    1500      350000\n",
       "9   Quartier Golf     510      350000\n",
       "10         Bastos     789      400000\n",
       "11           Akwa     811  1100000000\n",
       "12       Bonaberi   50000       40000\n",
       "13           Bali     300   200000000\n",
       "14           Bali     400   350000000\n",
       "15           PK14     350     7000000"
      ]
     },
     "execution_count": 71,
     "metadata": {},
     "output_type": "execute_result"
    }
   ],
   "source": [
    "data = pd.DataFrame(items_list)\n",
    "data"
   ]
  },
  {
   "cell_type": "code",
   "execution_count": 72,
   "id": "198dedaa-4476-4610-9ab9-67e22988f631",
   "metadata": {},
   "outputs": [],
   "source": [
    "data.to_csv(\"land_price_data.csv\",index = False)"
   ]
  },
  {
   "cell_type": "code",
   "execution_count": null,
   "id": "7d8986db-a7c4-474a-98c4-4103061fd224",
   "metadata": {},
   "outputs": [],
   "source": []
  }
 ],
 "metadata": {
  "kernelspec": {
   "display_name": "default:Python",
   "language": "python",
   "name": "conda-env-default-py"
  },
  "language_info": {
   "codemirror_mode": {
    "name": "ipython",
    "version": 3
   },
   "file_extension": ".py",
   "mimetype": "text/x-python",
   "name": "python",
   "nbconvert_exporter": "python",
   "pygments_lexer": "ipython3",
   "version": "3.9.7"
  }
 },
 "nbformat": 4,
 "nbformat_minor": 5
}
