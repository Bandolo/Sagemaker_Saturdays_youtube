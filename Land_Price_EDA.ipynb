{
 "cells": [
  {
   "cell_type": "markdown",
   "id": "2d3790c0-a98d-4547-aaa2-58bd5307f5d4",
   "metadata": {
    "tags": []
   },
   "source": [
    "# Exploratory Data Analysis"
   ]
  },
  {
   "cell_type": "markdown",
   "id": "ad28b270-f90f-410f-86fb-02d7468149ec",
   "metadata": {},
   "source": [
    "- Import the libraries\n",
    "- Big picture \n",
    "- Missing Values\n",
    "- Dependent Variable (Price)\n",
    "- Numeric variables (Area)\n",
    "- Categorical variebles(Location)"
   ]
  },
  {
   "cell_type": "markdown",
   "id": "4888501e-bf06-47d8-b88b-f69410cee966",
   "metadata": {},
   "source": [
    "### 1.) Import the libraries"
   ]
  },
  {
   "cell_type": "code",
   "execution_count": 2,
   "id": "50da82f0-878b-4821-80ba-d3b98c6c3007",
   "metadata": {},
   "outputs": [],
   "source": [
    "import numpy as np\n",
    "import pandas as pd\n",
    "import matplotlib.pyplot as plt\n",
    "import seaborn as sns\n",
    "%matplotlib inline"
   ]
  },
  {
   "cell_type": "markdown",
   "id": "61daa79d-aaa9-42ff-875e-0799e1aa2d61",
   "metadata": {},
   "source": [
    "### 2.) Big Picture"
   ]
  },
  {
   "cell_type": "code",
   "execution_count": 4,
   "id": "a127012f-18f0-4c5c-bc25-696fc95a5643",
   "metadata": {},
   "outputs": [
    {
     "data": {
      "text/html": [
       "<div>\n",
       "<style scoped>\n",
       "    .dataframe tbody tr th:only-of-type {\n",
       "        vertical-align: middle;\n",
       "    }\n",
       "\n",
       "    .dataframe tbody tr th {\n",
       "        vertical-align: top;\n",
       "    }\n",
       "\n",
       "    .dataframe thead th {\n",
       "        text-align: right;\n",
       "    }\n",
       "</style>\n",
       "<table border=\"1\" class=\"dataframe\">\n",
       "  <thead>\n",
       "    <tr style=\"text-align: right;\">\n",
       "      <th></th>\n",
       "      <th>Price</th>\n",
       "      <th>Location</th>\n",
       "      <th>Area</th>\n",
       "    </tr>\n",
       "  </thead>\n",
       "  <tbody>\n",
       "    <tr>\n",
       "      <th>0</th>\n",
       "      <td>8000</td>\n",
       "      <td>Douala</td>\n",
       "      <td>10000.0</td>\n",
       "    </tr>\n",
       "    <tr>\n",
       "      <th>1</th>\n",
       "      <td>55000</td>\n",
       "      <td>Yassa</td>\n",
       "      <td>300.0</td>\n",
       "    </tr>\n",
       "    <tr>\n",
       "      <th>2</th>\n",
       "      <td>55000</td>\n",
       "      <td>Yassa</td>\n",
       "      <td>200.0</td>\n",
       "    </tr>\n",
       "    <tr>\n",
       "      <th>3</th>\n",
       "      <td>55000</td>\n",
       "      <td>Japoma</td>\n",
       "      <td>735.0</td>\n",
       "    </tr>\n",
       "    <tr>\n",
       "      <th>4</th>\n",
       "      <td>55000</td>\n",
       "      <td>Japoma</td>\n",
       "      <td>1500.0</td>\n",
       "    </tr>\n",
       "    <tr>\n",
       "      <th>...</th>\n",
       "      <td>...</td>\n",
       "      <td>...</td>\n",
       "      <td>...</td>\n",
       "    </tr>\n",
       "    <tr>\n",
       "      <th>4485</th>\n",
       "      <td>6500</td>\n",
       "      <td>Yassa</td>\n",
       "      <td>150.0</td>\n",
       "    </tr>\n",
       "    <tr>\n",
       "      <th>4486</th>\n",
       "      <td>17000</td>\n",
       "      <td>Tsinga</td>\n",
       "      <td>1000.0</td>\n",
       "    </tr>\n",
       "    <tr>\n",
       "      <th>4487</th>\n",
       "      <td>50000</td>\n",
       "      <td>Bonaberi</td>\n",
       "      <td>300.0</td>\n",
       "    </tr>\n",
       "    <tr>\n",
       "      <th>4488</th>\n",
       "      <td>50000</td>\n",
       "      <td>Bonaberi</td>\n",
       "      <td>1000.0</td>\n",
       "    </tr>\n",
       "    <tr>\n",
       "      <th>4489</th>\n",
       "      <td>65000</td>\n",
       "      <td>Bonaberi</td>\n",
       "      <td>500.0</td>\n",
       "    </tr>\n",
       "  </tbody>\n",
       "</table>\n",
       "<p>4490 rows × 3 columns</p>\n",
       "</div>"
      ],
      "text/plain": [
       "      Price  Location     Area\n",
       "0      8000    Douala  10000.0\n",
       "1     55000     Yassa    300.0\n",
       "2     55000     Yassa    200.0\n",
       "3     55000    Japoma    735.0\n",
       "4     55000    Japoma   1500.0\n",
       "...     ...       ...      ...\n",
       "4485   6500     Yassa    150.0\n",
       "4486  17000    Tsinga   1000.0\n",
       "4487  50000  Bonaberi    300.0\n",
       "4488  50000  Bonaberi   1000.0\n",
       "4489  65000  Bonaberi    500.0\n",
       "\n",
       "[4490 rows x 3 columns]"
      ]
     },
     "execution_count": 4,
     "metadata": {},
     "output_type": "execute_result"
    }
   ],
   "source": [
    "dataset = pd.read_csv('land_price_data.csv',index_col = 0)\n",
    "dataset"
   ]
  },
  {
   "cell_type": "code",
   "execution_count": 29,
   "id": "5ca0d5be-3991-41e7-a7eb-7bc4f6c6b281",
   "metadata": {},
   "outputs": [
    {
     "data": {
      "text/html": [
       "<div>\n",
       "<style scoped>\n",
       "    .dataframe tbody tr th:only-of-type {\n",
       "        vertical-align: middle;\n",
       "    }\n",
       "\n",
       "    .dataframe tbody tr th {\n",
       "        vertical-align: top;\n",
       "    }\n",
       "\n",
       "    .dataframe thead th {\n",
       "        text-align: right;\n",
       "    }\n",
       "</style>\n",
       "<table border=\"1\" class=\"dataframe\">\n",
       "  <thead>\n",
       "    <tr style=\"text-align: right;\">\n",
       "      <th></th>\n",
       "      <th>Price</th>\n",
       "      <th>Location</th>\n",
       "      <th>Area</th>\n",
       "    </tr>\n",
       "  </thead>\n",
       "  <tbody>\n",
       "    <tr>\n",
       "      <th>0</th>\n",
       "      <td>8000</td>\n",
       "      <td>Douala</td>\n",
       "      <td>10000.0</td>\n",
       "    </tr>\n",
       "    <tr>\n",
       "      <th>1</th>\n",
       "      <td>55000</td>\n",
       "      <td>Yassa</td>\n",
       "      <td>300.0</td>\n",
       "    </tr>\n",
       "    <tr>\n",
       "      <th>2</th>\n",
       "      <td>55000</td>\n",
       "      <td>Yassa</td>\n",
       "      <td>200.0</td>\n",
       "    </tr>\n",
       "    <tr>\n",
       "      <th>3</th>\n",
       "      <td>55000</td>\n",
       "      <td>Japoma</td>\n",
       "      <td>735.0</td>\n",
       "    </tr>\n",
       "    <tr>\n",
       "      <th>4</th>\n",
       "      <td>55000</td>\n",
       "      <td>Japoma</td>\n",
       "      <td>1500.0</td>\n",
       "    </tr>\n",
       "    <tr>\n",
       "      <th>5</th>\n",
       "      <td>3000</td>\n",
       "      <td>Mfou</td>\n",
       "      <td>174000.0</td>\n",
       "    </tr>\n",
       "    <tr>\n",
       "      <th>6</th>\n",
       "      <td>16000000</td>\n",
       "      <td>Biyem-Assi</td>\n",
       "      <td>270.0</td>\n",
       "    </tr>\n",
       "    <tr>\n",
       "      <th>7</th>\n",
       "      <td>60000</td>\n",
       "      <td>Kribi</td>\n",
       "      <td>5000.0</td>\n",
       "    </tr>\n",
       "    <tr>\n",
       "      <th>8</th>\n",
       "      <td>150000</td>\n",
       "      <td>Kribi</td>\n",
       "      <td>1000.0</td>\n",
       "    </tr>\n",
       "    <tr>\n",
       "      <th>9</th>\n",
       "      <td>8000</td>\n",
       "      <td>Douala</td>\n",
       "      <td>10000.0</td>\n",
       "    </tr>\n",
       "    <tr>\n",
       "      <th>10</th>\n",
       "      <td>500000</td>\n",
       "      <td>Bastos</td>\n",
       "      <td>2500.0</td>\n",
       "    </tr>\n",
       "    <tr>\n",
       "      <th>11</th>\n",
       "      <td>60000</td>\n",
       "      <td>Yassa</td>\n",
       "      <td>2557.0</td>\n",
       "    </tr>\n",
       "    <tr>\n",
       "      <th>12</th>\n",
       "      <td>40000</td>\n",
       "      <td>Yassa</td>\n",
       "      <td>500.0</td>\n",
       "    </tr>\n",
       "    <tr>\n",
       "      <th>13</th>\n",
       "      <td>25000</td>\n",
       "      <td>Yassa</td>\n",
       "      <td>500.0</td>\n",
       "    </tr>\n",
       "    <tr>\n",
       "      <th>14</th>\n",
       "      <td>25000</td>\n",
       "      <td>Japoma</td>\n",
       "      <td>1000.0</td>\n",
       "    </tr>\n",
       "    <tr>\n",
       "      <th>15</th>\n",
       "      <td>60000</td>\n",
       "      <td>Japoma</td>\n",
       "      <td>3000.0</td>\n",
       "    </tr>\n",
       "    <tr>\n",
       "      <th>16</th>\n",
       "      <td>60000000</td>\n",
       "      <td>Logpom</td>\n",
       "      <td>1000.0</td>\n",
       "    </tr>\n",
       "    <tr>\n",
       "      <th>17</th>\n",
       "      <td>57240000</td>\n",
       "      <td>Omnisports</td>\n",
       "      <td>477.0</td>\n",
       "    </tr>\n",
       "    <tr>\n",
       "      <th>18</th>\n",
       "      <td>8000</td>\n",
       "      <td>Douala</td>\n",
       "      <td>10000.0</td>\n",
       "    </tr>\n",
       "    <tr>\n",
       "      <th>19</th>\n",
       "      <td>21875000</td>\n",
       "      <td>Yassa</td>\n",
       "      <td>875.0</td>\n",
       "    </tr>\n",
       "  </tbody>\n",
       "</table>\n",
       "</div>"
      ],
      "text/plain": [
       "       Price    Location      Area\n",
       "0       8000      Douala   10000.0\n",
       "1      55000       Yassa     300.0\n",
       "2      55000       Yassa     200.0\n",
       "3      55000      Japoma     735.0\n",
       "4      55000      Japoma    1500.0\n",
       "5       3000        Mfou  174000.0\n",
       "6   16000000  Biyem-Assi     270.0\n",
       "7      60000       Kribi    5000.0\n",
       "8     150000       Kribi    1000.0\n",
       "9       8000      Douala   10000.0\n",
       "10    500000      Bastos    2500.0\n",
       "11     60000       Yassa    2557.0\n",
       "12     40000       Yassa     500.0\n",
       "13     25000       Yassa     500.0\n",
       "14     25000      Japoma    1000.0\n",
       "15     60000      Japoma    3000.0\n",
       "16  60000000      Logpom    1000.0\n",
       "17  57240000  Omnisports     477.0\n",
       "18      8000      Douala   10000.0\n",
       "19  21875000       Yassa     875.0"
      ]
     },
     "execution_count": 29,
     "metadata": {},
     "output_type": "execute_result"
    }
   ],
   "source": [
    "dataset.head(20)"
   ]
  },
  {
   "cell_type": "code",
   "execution_count": 30,
   "id": "16f84267-90fe-4f3b-a6b2-e85ad421aab7",
   "metadata": {},
   "outputs": [
    {
     "name": "stdout",
     "output_type": "stream",
     "text": [
      "59259.25925925926\n"
     ]
    }
   ],
   "source": [
    "print(16000000/270)"
   ]
  },
  {
   "cell_type": "code",
   "execution_count": 11,
   "id": "d27aa46a-d09c-45ac-98d7-16c238f03813",
   "metadata": {},
   "outputs": [
    {
     "data": {
      "text/plain": [
       "Price       397\n",
       "Location    161\n",
       "Area        549\n",
       "dtype: int64"
      ]
     },
     "execution_count": 11,
     "metadata": {},
     "output_type": "execute_result"
    }
   ],
   "source": [
    "dataset.nunique()"
   ]
  },
  {
   "cell_type": "code",
   "execution_count": 12,
   "id": "361e7eb2-6a70-4ee3-b99a-689f7a42168a",
   "metadata": {},
   "outputs": [
    {
     "name": "stdout",
     "output_type": "stream",
     "text": [
      "<class 'pandas.core.frame.DataFrame'>\n",
      "Int64Index: 4490 entries, 0 to 4489\n",
      "Data columns (total 3 columns):\n",
      " #   Column    Non-Null Count  Dtype  \n",
      "---  ------    --------------  -----  \n",
      " 0   Price     4490 non-null   int64  \n",
      " 1   Location  4490 non-null   object \n",
      " 2   Area      4270 non-null   float64\n",
      "dtypes: float64(1), int64(1), object(1)\n",
      "memory usage: 140.3+ KB\n"
     ]
    }
   ],
   "source": [
    "dataset.info()"
   ]
  },
  {
   "cell_type": "code",
   "execution_count": 13,
   "id": "2cb94728-9399-4cc9-9730-52f3d54a9e8f",
   "metadata": {},
   "outputs": [
    {
     "data": {
      "text/html": [
       "<div>\n",
       "<style scoped>\n",
       "    .dataframe tbody tr th:only-of-type {\n",
       "        vertical-align: middle;\n",
       "    }\n",
       "\n",
       "    .dataframe tbody tr th {\n",
       "        vertical-align: top;\n",
       "    }\n",
       "\n",
       "    .dataframe thead th {\n",
       "        text-align: right;\n",
       "    }\n",
       "</style>\n",
       "<table border=\"1\" class=\"dataframe\">\n",
       "  <thead>\n",
       "    <tr style=\"text-align: right;\">\n",
       "      <th></th>\n",
       "      <th>Price</th>\n",
       "      <th>Area</th>\n",
       "    </tr>\n",
       "  </thead>\n",
       "  <tbody>\n",
       "    <tr>\n",
       "      <th>count</th>\n",
       "      <td>4.490000e+03</td>\n",
       "      <td>4270.000000</td>\n",
       "    </tr>\n",
       "    <tr>\n",
       "      <th>mean</th>\n",
       "      <td>4.961029e+07</td>\n",
       "      <td>10036.810304</td>\n",
       "    </tr>\n",
       "    <tr>\n",
       "      <th>std</th>\n",
       "      <td>8.482607e+08</td>\n",
       "      <td>42361.933909</td>\n",
       "    </tr>\n",
       "    <tr>\n",
       "      <th>min</th>\n",
       "      <td>0.000000e+00</td>\n",
       "      <td>0.000000</td>\n",
       "    </tr>\n",
       "    <tr>\n",
       "      <th>25%</th>\n",
       "      <td>1.000000e+04</td>\n",
       "      <td>500.000000</td>\n",
       "    </tr>\n",
       "    <tr>\n",
       "      <th>50%</th>\n",
       "      <td>3.500000e+04</td>\n",
       "      <td>1000.000000</td>\n",
       "    </tr>\n",
       "    <tr>\n",
       "      <th>75%</th>\n",
       "      <td>5.000000e+05</td>\n",
       "      <td>5393.750000</td>\n",
       "    </tr>\n",
       "    <tr>\n",
       "      <th>max</th>\n",
       "      <td>4.500000e+10</td>\n",
       "      <td>500000.000000</td>\n",
       "    </tr>\n",
       "  </tbody>\n",
       "</table>\n",
       "</div>"
      ],
      "text/plain": [
       "              Price           Area\n",
       "count  4.490000e+03    4270.000000\n",
       "mean   4.961029e+07   10036.810304\n",
       "std    8.482607e+08   42361.933909\n",
       "min    0.000000e+00       0.000000\n",
       "25%    1.000000e+04     500.000000\n",
       "50%    3.500000e+04    1000.000000\n",
       "75%    5.000000e+05    5393.750000\n",
       "max    4.500000e+10  500000.000000"
      ]
     },
     "execution_count": 13,
     "metadata": {},
     "output_type": "execute_result"
    }
   ],
   "source": [
    "dataset.describe()"
   ]
  },
  {
   "cell_type": "markdown",
   "id": "d1c4a735-784a-422e-a808-377c4c3a8597",
   "metadata": {},
   "source": [
    "### 3.) Missing Values"
   ]
  },
  {
   "cell_type": "code",
   "execution_count": 15,
   "id": "1a74f418-a174-4c1c-acd8-d749aafe69ff",
   "metadata": {},
   "outputs": [
    {
     "data": {
      "text/plain": [
       "Price       False\n",
       "Location    False\n",
       "Area         True\n",
       "dtype: bool"
      ]
     },
     "execution_count": 15,
     "metadata": {},
     "output_type": "execute_result"
    }
   ],
   "source": [
    "dataset.isna().any()"
   ]
  },
  {
   "cell_type": "code",
   "execution_count": 16,
   "id": "b7793b04-4064-4c1d-a558-c5fabdf5fafa",
   "metadata": {},
   "outputs": [
    {
     "data": {
      "text/plain": [
       "220"
      ]
     },
     "execution_count": 16,
     "metadata": {},
     "output_type": "execute_result"
    }
   ],
   "source": [
    "dataset['Area'].isna().sum()"
   ]
  },
  {
   "cell_type": "code",
   "execution_count": 17,
   "id": "bc54634c-fcb6-46b3-a3f4-77b2ddb5785a",
   "metadata": {},
   "outputs": [],
   "source": [
    "data = dataset.copy()"
   ]
  },
  {
   "cell_type": "code",
   "execution_count": 18,
   "id": "1dd676b1-c057-418f-8b92-c209a604dabc",
   "metadata": {},
   "outputs": [
    {
     "data": {
      "text/html": [
       "<div>\n",
       "<style scoped>\n",
       "    .dataframe tbody tr th:only-of-type {\n",
       "        vertical-align: middle;\n",
       "    }\n",
       "\n",
       "    .dataframe tbody tr th {\n",
       "        vertical-align: top;\n",
       "    }\n",
       "\n",
       "    .dataframe thead th {\n",
       "        text-align: right;\n",
       "    }\n",
       "</style>\n",
       "<table border=\"1\" class=\"dataframe\">\n",
       "  <thead>\n",
       "    <tr style=\"text-align: right;\">\n",
       "      <th></th>\n",
       "      <th>Price</th>\n",
       "      <th>Location</th>\n",
       "      <th>Area</th>\n",
       "    </tr>\n",
       "  </thead>\n",
       "  <tbody>\n",
       "    <tr>\n",
       "      <th>0</th>\n",
       "      <td>8000</td>\n",
       "      <td>Douala</td>\n",
       "      <td>10000.0</td>\n",
       "    </tr>\n",
       "    <tr>\n",
       "      <th>1</th>\n",
       "      <td>55000</td>\n",
       "      <td>Yassa</td>\n",
       "      <td>300.0</td>\n",
       "    </tr>\n",
       "    <tr>\n",
       "      <th>2</th>\n",
       "      <td>55000</td>\n",
       "      <td>Yassa</td>\n",
       "      <td>200.0</td>\n",
       "    </tr>\n",
       "    <tr>\n",
       "      <th>3</th>\n",
       "      <td>55000</td>\n",
       "      <td>Japoma</td>\n",
       "      <td>735.0</td>\n",
       "    </tr>\n",
       "    <tr>\n",
       "      <th>4</th>\n",
       "      <td>55000</td>\n",
       "      <td>Japoma</td>\n",
       "      <td>1500.0</td>\n",
       "    </tr>\n",
       "    <tr>\n",
       "      <th>...</th>\n",
       "      <td>...</td>\n",
       "      <td>...</td>\n",
       "      <td>...</td>\n",
       "    </tr>\n",
       "    <tr>\n",
       "      <th>4485</th>\n",
       "      <td>6500</td>\n",
       "      <td>Yassa</td>\n",
       "      <td>150.0</td>\n",
       "    </tr>\n",
       "    <tr>\n",
       "      <th>4486</th>\n",
       "      <td>17000</td>\n",
       "      <td>Tsinga</td>\n",
       "      <td>1000.0</td>\n",
       "    </tr>\n",
       "    <tr>\n",
       "      <th>4487</th>\n",
       "      <td>50000</td>\n",
       "      <td>Bonaberi</td>\n",
       "      <td>300.0</td>\n",
       "    </tr>\n",
       "    <tr>\n",
       "      <th>4488</th>\n",
       "      <td>50000</td>\n",
       "      <td>Bonaberi</td>\n",
       "      <td>1000.0</td>\n",
       "    </tr>\n",
       "    <tr>\n",
       "      <th>4489</th>\n",
       "      <td>65000</td>\n",
       "      <td>Bonaberi</td>\n",
       "      <td>500.0</td>\n",
       "    </tr>\n",
       "  </tbody>\n",
       "</table>\n",
       "<p>4490 rows × 3 columns</p>\n",
       "</div>"
      ],
      "text/plain": [
       "      Price  Location     Area\n",
       "0      8000    Douala  10000.0\n",
       "1     55000     Yassa    300.0\n",
       "2     55000     Yassa    200.0\n",
       "3     55000    Japoma    735.0\n",
       "4     55000    Japoma   1500.0\n",
       "...     ...       ...      ...\n",
       "4485   6500     Yassa    150.0\n",
       "4486  17000    Tsinga   1000.0\n",
       "4487  50000  Bonaberi    300.0\n",
       "4488  50000  Bonaberi   1000.0\n",
       "4489  65000  Bonaberi    500.0\n",
       "\n",
       "[4490 rows x 3 columns]"
      ]
     },
     "execution_count": 18,
     "metadata": {},
     "output_type": "execute_result"
    }
   ],
   "source": [
    "data"
   ]
  },
  {
   "cell_type": "markdown",
   "id": "79ee77e3-d2ff-45ab-802b-bf6fba720bb7",
   "metadata": {},
   "source": [
    "### 4.) Dependent (Price)"
   ]
  },
  {
   "cell_type": "code",
   "execution_count": 21,
   "id": "fe1bfea4-a610-4352-a317-5c7ae9f479de",
   "metadata": {},
   "outputs": [
    {
     "data": {
      "text/plain": [
       "8000         538\n",
       "25000        205\n",
       "35000        141\n",
       "15000        133\n",
       "30000        126\n",
       "            ... \n",
       "15500000       1\n",
       "260000000      1\n",
       "28350000       1\n",
       "81000000       1\n",
       "0              1\n",
       "Name: Price, Length: 397, dtype: int64"
      ]
     },
     "execution_count": 21,
     "metadata": {},
     "output_type": "execute_result"
    }
   ],
   "source": [
    "dataset.Price.value_counts()"
   ]
  },
  {
   "cell_type": "code",
   "execution_count": 23,
   "id": "0b0325ce-38c1-405b-90bb-9625f1520d23",
   "metadata": {},
   "outputs": [
    {
     "data": {
      "text/plain": [
       "<AxesSubplot:>"
      ]
     },
     "execution_count": 23,
     "metadata": {},
     "output_type": "execute_result"
    },
    {
     "data": {
      "image/png": "[encoded data removed]",
      "text/plain": [
       "<Figure size 432x288 with 1 Axes>"
      ]
     },
     "metadata": {
      "needs_background": "light"
     },
     "output_type": "display_data"
    }
   ],
   "source": [
    "data['Price'].value_counts().plot()"
   ]
  },
  {
   "cell_type": "code",
   "execution_count": 28,
   "id": "87be2c32-957c-4ef9-94b1-ef36c645b050",
   "metadata": {},
   "outputs": [
    {
     "data": {
      "text/plain": [
       "<AxesSubplot:xlabel='Price', ylabel='count'>"
      ]
     },
     "execution_count": 28,
     "metadata": {},
     "output_type": "execute_result"
    },
    {
     "data": {
      "image/png": "[encoded data removed]",
      "text/plain": [
       "<Figure size 1152x576 with 1 Axes>"
      ]
     },
     "metadata": {
      "needs_background": "light"
     },
     "output_type": "display_data"
    }
   ],
   "source": [
    "plt.figure(figsize = (16,8))\n",
    "sns.countplot(x ='Price', data = data)"
   ]
  },
  {
   "cell_type": "markdown",
   "id": "2dcb68e3-519e-48fa-ae25-66558643b0d2",
   "metadata": {
    "tags": []
   },
   "source": [
    "### 5.) Numeric variables(Area)"
   ]
  },
  {
   "cell_type": "code",
   "execution_count": 31,
   "id": "aecf57b2-91dc-4cfc-9133-505340f72aee",
   "metadata": {},
   "outputs": [
    {
     "data": {
      "text/plain": [
       "count      4270.000000\n",
       "mean      10036.810304\n",
       "std       42361.933909\n",
       "min           0.000000\n",
       "25%         500.000000\n",
       "50%        1000.000000\n",
       "75%        5393.750000\n",
       "max      500000.000000\n",
       "Name: Area, dtype: float64"
      ]
     },
     "execution_count": 31,
     "metadata": {},
     "output_type": "execute_result"
    }
   ],
   "source": [
    "data.['Area'].describe()"
   ]
  },
  {
   "cell_type": "code",
   "execution_count": 34,
   "id": "dc397d02-2769-4e1a-abb4-240f438b77ea",
   "metadata": {},
   "outputs": [
    {
     "data": {
      "text/plain": [
       "<AxesSubplot:xlabel='Area'>"
      ]
     },
     "execution_count": 34,
     "metadata": {},
     "output_type": "execute_result"
    },
    {
     "data": {
      "image/png": "[encoded data removed]",
      "text/plain": [
       "<Figure size 432x288 with 1 Axes>"
      ]
     },
     "metadata": {
      "needs_background": "light"
     },
     "output_type": "display_data"
    }
   ],
   "source": [
    "data.groupby('Area').size().sort_index().plot()"
   ]
  },
  {
   "cell_type": "markdown",
   "id": "5cd67d06-d6fb-470b-b484-cdd8d9bfac37",
   "metadata": {},
   "source": [
    "### 6.) Location"
   ]
  },
  {
   "cell_type": "code",
   "execution_count": 40,
   "id": "b0277a51-981c-4e4c-be0a-f454709a441b",
   "metadata": {},
   "outputs": [
    {
     "data": {
      "text/plain": [
       "<AxesSubplot:>"
      ]
     },
     "execution_count": 40,
     "metadata": {},
     "output_type": "execute_result"
    },
    {
     "data": {
      "image/png": "[encoded data removed]",
      "text/plain": [
       "<Figure size 1152x432 with 1 Axes>"
      ]
     },
     "metadata": {
      "needs_background": "light"
     },
     "output_type": "display_data"
    }
   ],
   "source": [
    "\n",
    "dataset['Location'].value_counts().plot(kind = 'bar', figsize = (16,6))"
   ]
  },
  {
   "cell_type": "code",
   "execution_count": 49,
   "id": "36737846-87f4-469f-8650-e184daf60247",
   "metadata": {},
   "outputs": [
    {
     "data": {
      "text/html": [
       "<div>\n",
       "<style scoped>\n",
       "    .dataframe tbody tr th:only-of-type {\n",
       "        vertical-align: middle;\n",
       "    }\n",
       "\n",
       "    .dataframe tbody tr th {\n",
       "        vertical-align: top;\n",
       "    }\n",
       "\n",
       "    .dataframe thead th {\n",
       "        text-align: right;\n",
       "    }\n",
       "</style>\n",
       "<table border=\"1\" class=\"dataframe\">\n",
       "  <thead>\n",
       "    <tr style=\"text-align: right;\">\n",
       "      <th></th>\n",
       "      <th>Price</th>\n",
       "    </tr>\n",
       "    <tr>\n",
       "      <th>Location</th>\n",
       "      <th></th>\n",
       "    </tr>\n",
       "  </thead>\n",
       "  <tbody>\n",
       "    <tr>\n",
       "      <th>Douala</th>\n",
       "      <td>11.648107</td>\n",
       "    </tr>\n",
       "    <tr>\n",
       "      <th>Yaoundé</th>\n",
       "      <td>9.220490</td>\n",
       "    </tr>\n",
       "    <tr>\n",
       "      <th>Yassa</th>\n",
       "      <td>6.748330</td>\n",
       "    </tr>\n",
       "    <tr>\n",
       "      <th>Odza</th>\n",
       "      <td>5.211581</td>\n",
       "    </tr>\n",
       "    <tr>\n",
       "      <th>Kribi</th>\n",
       "      <td>4.253898</td>\n",
       "    </tr>\n",
       "    <tr>\n",
       "      <th>...</th>\n",
       "      <td>...</td>\n",
       "    </tr>\n",
       "    <tr>\n",
       "      <th>Mbouda</th>\n",
       "      <td>0.022272</td>\n",
       "    </tr>\n",
       "    <tr>\n",
       "      <th>Eséka</th>\n",
       "      <td>0.022272</td>\n",
       "    </tr>\n",
       "    <tr>\n",
       "      <th>Mbengwi</th>\n",
       "      <td>0.022272</td>\n",
       "    </tr>\n",
       "    <tr>\n",
       "      <th>Batouri</th>\n",
       "      <td>0.022272</td>\n",
       "    </tr>\n",
       "    <tr>\n",
       "      <th>Bilongue</th>\n",
       "      <td>0.022272</td>\n",
       "    </tr>\n",
       "  </tbody>\n",
       "</table>\n",
       "<p>161 rows × 1 columns</p>\n",
       "</div>"
      ],
      "text/plain": [
       "              Price\n",
       "Location           \n",
       "Douala    11.648107\n",
       "Yaoundé    9.220490\n",
       "Yassa      6.748330\n",
       "Odza       5.211581\n",
       "Kribi      4.253898\n",
       "...             ...\n",
       "Mbouda     0.022272\n",
       "Eséka      0.022272\n",
       "Mbengwi    0.022272\n",
       "Batouri    0.022272\n",
       "Bilongue   0.022272\n",
       "\n",
       "[161 rows x 1 columns]"
      ]
     },
     "execution_count": 49,
     "metadata": {},
     "output_type": "execute_result"
    }
   ],
   "source": [
    "frequency_loc = pd.DataFrame(data.groupby('Location')['Price'].count()/len(data)*100)\n",
    "frequency_loc.sort_values('Price', ascending = False)"
   ]
  },
  {
   "cell_type": "code",
   "execution_count": 58,
   "id": "72603dfb-c065-4529-94e0-c37019e7caab",
   "metadata": {},
   "outputs": [],
   "source": [
    "frequency_loc = frequency_loc[frequency_loc['Price'] > 0.5]"
   ]
  },
  {
   "cell_type": "code",
   "execution_count": 61,
   "id": "a07ba261-a42e-43ea-9aa5-8ad7c0405a7c",
   "metadata": {},
   "outputs": [],
   "source": [
    "data['Location'] = np.where(data['Location'].isin(frequency_loc.index),dataset['Location'],\"Rare neighbourhood\")"
   ]
  },
  {
   "cell_type": "code",
   "execution_count": 62,
   "id": "0510025d-70c5-4d01-b884-cd0511a9def9",
   "metadata": {},
   "outputs": [
    {
     "data": {
      "text/html": [
       "<div>\n",
       "<style scoped>\n",
       "    .dataframe tbody tr th:only-of-type {\n",
       "        vertical-align: middle;\n",
       "    }\n",
       "\n",
       "    .dataframe tbody tr th {\n",
       "        vertical-align: top;\n",
       "    }\n",
       "\n",
       "    .dataframe thead th {\n",
       "        text-align: right;\n",
       "    }\n",
       "</style>\n",
       "<table border=\"1\" class=\"dataframe\">\n",
       "  <thead>\n",
       "    <tr style=\"text-align: right;\">\n",
       "      <th></th>\n",
       "      <th>Price</th>\n",
       "      <th>Location</th>\n",
       "      <th>Area</th>\n",
       "    </tr>\n",
       "  </thead>\n",
       "  <tbody>\n",
       "    <tr>\n",
       "      <th>0</th>\n",
       "      <td>8000</td>\n",
       "      <td>Douala</td>\n",
       "      <td>10000.0</td>\n",
       "    </tr>\n",
       "    <tr>\n",
       "      <th>1</th>\n",
       "      <td>55000</td>\n",
       "      <td>Yassa</td>\n",
       "      <td>300.0</td>\n",
       "    </tr>\n",
       "    <tr>\n",
       "      <th>2</th>\n",
       "      <td>55000</td>\n",
       "      <td>Yassa</td>\n",
       "      <td>200.0</td>\n",
       "    </tr>\n",
       "    <tr>\n",
       "      <th>3</th>\n",
       "      <td>55000</td>\n",
       "      <td>Japoma</td>\n",
       "      <td>735.0</td>\n",
       "    </tr>\n",
       "    <tr>\n",
       "      <th>4</th>\n",
       "      <td>55000</td>\n",
       "      <td>Japoma</td>\n",
       "      <td>1500.0</td>\n",
       "    </tr>\n",
       "    <tr>\n",
       "      <th>...</th>\n",
       "      <td>...</td>\n",
       "      <td>...</td>\n",
       "      <td>...</td>\n",
       "    </tr>\n",
       "    <tr>\n",
       "      <th>4485</th>\n",
       "      <td>6500</td>\n",
       "      <td>Yassa</td>\n",
       "      <td>150.0</td>\n",
       "    </tr>\n",
       "    <tr>\n",
       "      <th>4486</th>\n",
       "      <td>17000</td>\n",
       "      <td>Rare neighbourhood</td>\n",
       "      <td>1000.0</td>\n",
       "    </tr>\n",
       "    <tr>\n",
       "      <th>4487</th>\n",
       "      <td>50000</td>\n",
       "      <td>Bonaberi</td>\n",
       "      <td>300.0</td>\n",
       "    </tr>\n",
       "    <tr>\n",
       "      <th>4488</th>\n",
       "      <td>50000</td>\n",
       "      <td>Bonaberi</td>\n",
       "      <td>1000.0</td>\n",
       "    </tr>\n",
       "    <tr>\n",
       "      <th>4489</th>\n",
       "      <td>65000</td>\n",
       "      <td>Bonaberi</td>\n",
       "      <td>500.0</td>\n",
       "    </tr>\n",
       "  </tbody>\n",
       "</table>\n",
       "<p>4490 rows × 3 columns</p>\n",
       "</div>"
      ],
      "text/plain": [
       "      Price            Location     Area\n",
       "0      8000              Douala  10000.0\n",
       "1     55000               Yassa    300.0\n",
       "2     55000               Yassa    200.0\n",
       "3     55000              Japoma    735.0\n",
       "4     55000              Japoma   1500.0\n",
       "...     ...                 ...      ...\n",
       "4485   6500               Yassa    150.0\n",
       "4486  17000  Rare neighbourhood   1000.0\n",
       "4487  50000            Bonaberi    300.0\n",
       "4488  50000            Bonaberi   1000.0\n",
       "4489  65000            Bonaberi    500.0\n",
       "\n",
       "[4490 rows x 3 columns]"
      ]
     },
     "execution_count": 62,
     "metadata": {},
     "output_type": "execute_result"
    }
   ],
   "source": [
    "data"
   ]
  },
  {
   "cell_type": "code",
   "execution_count": null,
   "id": "a84e67d1-59ee-43bf-b120-8a33a1012fd2",
   "metadata": {},
   "outputs": [],
   "source": []
  }
 ],
 "metadata": {
  "kernelspec": {
   "display_name": "default:Python",
   "language": "python",
   "name": "conda-env-default-py"
  },
  "language_info": {
   "codemirror_mode": {
    "name": "ipython",
    "version": 3
   },
   "file_extension": ".py",
   "mimetype": "text/x-python",
   "name": "python",
   "nbconvert_exporter": "python",
   "pygments_lexer": "ipython3",
   "version": "3.9.7"
  }
 },
 "nbformat": 4,
 "nbformat_minor": 5
}
